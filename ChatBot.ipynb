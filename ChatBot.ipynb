{
 "cells": [
  {
   "cell_type": "code",
   "execution_count": 1,
   "id": "eb72a73b",
   "metadata": {
    "scrolled": true
   },
   "outputs": [
    {
     "name": "stdout",
     "output_type": "stream",
     "text": [
      "WARNING:tensorflow:From /usr/local/Cellar/jupyterlab/3.3.2/libexec/lib/python3.9/site-packages/tensorflow/python/compat/v2_compat.py:107: disable_resource_variables (from tensorflow.python.ops.variable_scope) is deprecated and will be removed in a future version.\n",
      "Instructions for updating:\n",
      "non-resource variables are not supported in the long term\n",
      "WARNING:tensorflow:From /usr/local/Cellar/jupyterlab/3.3.2/libexec/lib/python3.9/site-packages/tflearn/initializations.py:164: calling TruncatedNormal.__init__ (from tensorflow.python.ops.init_ops) with dtype is deprecated and will be removed in a future version.\n",
      "Instructions for updating:\n",
      "Call initializer instance with the dtype argument instead of passing it to the constructor\n"
     ]
    },
    {
     "name": "stderr",
     "output_type": "stream",
     "text": [
      "2022-05-20 11:12:45.437865: I tensorflow/core/platform/cpu_feature_guard.cc:193] This TensorFlow binary is optimized with oneAPI Deep Neural Network Library (oneDNN) to use the following CPU instructions in performance-critical operations:  AVX2 FMA\n",
      "To enable them in other operations, rebuild TensorFlow with the appropriate compiler flags.\n",
      "2022-05-20 11:12:45.759174: I tensorflow/compiler/mlir/mlir_graph_optimization_pass.cc:354] MLIR V1 optimization pass is not enabled\n"
     ]
    },
    {
     "name": "stdout",
     "output_type": "stream",
     "text": [
      "INFO:tensorflow:Restoring parameters from /Users/prkskrs/Desktop/Project/ChatBot/model.tflearn\n"
     ]
    }
   ],
   "source": [
    "#pip install tensorflow\n",
    "import nltk\n",
    "from nltk.stem.lancaster import LancasterStemmer\n",
    "#nltk.download(\"punkt\")\n",
    "stemmer=LancasterStemmer()\n",
    "\n",
    "import numpy as np\n",
    "import tflearn\n",
    "import tensorflow\n",
    "import random\n",
    "import json\n",
    "import pickle\n",
    "\n",
    "\n",
    "\n",
    "with open(\"intents.json\") as file:\n",
    "    data = json.load(file)\n",
    "\n",
    "try:\n",
    "    x #put when did change in intent\n",
    "    with open(\"data.pickle\",\"rb\") as f:\n",
    "        words,labels,training,output=pickle.load()\n",
    "except:\n",
    "    words=[]\n",
    "    labels=[]\n",
    "    docs_x=[]\n",
    "    docs_y=[]\n",
    "\n",
    "    for intent in data[\"intents\"]:\n",
    "        for pattern in intent[\"patterns\"]:\n",
    "            wrds=nltk.word_tokenize(pattern)\n",
    "            words.extend(wrds)\n",
    "            docs_x.append(wrds)\n",
    "            docs_y.append(intent[\"tag\"])\n",
    "\n",
    "            if intent[\"tag\"] not in labels:\n",
    "                labels.append(intent[\"tag\"])\n",
    "    words=[stemmer.stem(w.lower()) for w in words if w not in \"?\"]\n",
    "    words=sorted(list(set(words)))\n",
    "    labels=sorted(labels)\n",
    "\n",
    "    # PREPROCESSING THE DATA\n",
    "    training=[]\n",
    "    output=[]\n",
    "    out_empty=[0 for _ in range(len(labels))]\n",
    "    [0,0,0,1]\n",
    "    # \"hi\",\"buy\",\"sell\",\"help\"\n",
    "    for x,doc in enumerate(docs_x):\n",
    "        bag=[]\n",
    "        wrds=[stemmer.stem(w) for w in doc]\n",
    "\n",
    "        for w in words:\n",
    "            if w in wrds:\n",
    "                bag.append(1)\n",
    "            else:\n",
    "                bag.append(0)\n",
    "        output_row=out_empty[:]\n",
    "        output_row[labels.index(docs_y[x])]=1\n",
    "        training.append(bag)\n",
    "        output.append(output_row)\n",
    "\n",
    "    training=np.array(training)\n",
    "    output=np.array(output)\n",
    "                      \n",
    "    with open(\"data.pickle\",\"wb\") as f:\n",
    "        pickle.dump((words,labels,training,output),f)\n",
    "        \n",
    "        \n",
    "        \n",
    "from tensorflow.python.framework import ops\n",
    "ops.reset_default_graph()\n",
    "net=tflearn.input_data(shape=[None,len(training[0])])\n",
    "net=tflearn.fully_connected(net,8)\n",
    "net=tflearn.fully_connected(net,8)\n",
    "net=tflearn.fully_connected(net,len(output[0]),activation=\"softmax\")\n",
    "net=tflearn.regression(net)\n",
    "\n",
    "model=tflearn.DNN(net)\n",
    "\n",
    "try:\n",
    "    model.load(\"model.tflearn\")\n",
    "except:\n",
    "    model.fit(training,output,n_epoch=1000,batch_size=8,show_metric=True)\n",
    "    model.save(\"model.tflearn\")"
   ]
  },
  {
   "cell_type": "code",
   "execution_count": 2,
   "id": "b0480efd",
   "metadata": {},
   "outputs": [],
   "source": [
    "def bag_of_words(s,words):\n",
    "    bag=[0 for _ in range(len(words))]\n",
    "    s_words=nltk.word_tokenize(s)\n",
    "    s_words=[stemmer.stem(word.lower()) for word in s_words]\n",
    "      \n",
    "    for se in s_words:\n",
    "        for i,w in enumerate(words):\n",
    "            if(w==se):\n",
    "                bag[i]=1\n",
    "                \n",
    "    return np.array(bag)"
   ]
  },
  {
   "cell_type": "code",
   "execution_count": 3,
   "id": "a0ac8ba6",
   "metadata": {},
   "outputs": [],
   "source": [
    "def chat():\n",
    "    print(\"Start talking with the bot!\")\n",
    "    while True:\n",
    "        inp=input(\"You: \")\n",
    "        if inp.lower()==\"quit\":\n",
    "            break\n",
    "            \n",
    "        results = model.predict([bag_of_words(inp,words)])[0]\n",
    "        #print(results) #give probabilty of occuring\n",
    "        results_index=np.argmax(results)\n",
    "        tag=labels[results_index]\n",
    "        #print(tag)\n",
    "        if results[results_index]>0.7:\n",
    "            for tg in data[\"intents\"]:\n",
    "                if tg[\"tag\"]==tag:\n",
    "                    responses=tg[\"responses\"]\n",
    "            print(random.choice(responses))\n",
    "        else:\n",
    "            print(\"I didn't get that try again.\")"
   ]
  },
  {
   "cell_type": "code",
   "execution_count": 4,
   "id": "05df298f",
   "metadata": {},
   "outputs": [
    {
     "name": "stdout",
     "output_type": "stream",
     "text": [
      "Start talking with the bot!\n",
      "You: what's up?\n",
      "Nothing special\n",
      "You: was up\n",
      "Good to see you again!\n",
      "You: was up?\n",
      "Nothing special\n",
      "You: quit\n"
     ]
    }
   ],
   "source": [
    "whts"
   ]
  },
  {
   "cell_type": "code",
   "execution_count": null,
   "id": "3202e620",
   "metadata": {},
   "outputs": [],
   "source": []
  }
 ],
 "metadata": {
  "kernelspec": {
   "display_name": "Python 3 (ipykernel)",
   "language": "python",
   "name": "python3"
  },
  "language_info": {
   "codemirror_mode": {
    "name": "ipython",
    "version": 3
   },
   "file_extension": ".py",
   "mimetype": "text/x-python",
   "name": "python",
   "nbconvert_exporter": "python",
   "pygments_lexer": "ipython3",
   "version": "3.9.12"
  }
 },
 "nbformat": 4,
 "nbformat_minor": 5
}
